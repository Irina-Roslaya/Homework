{
 "cells": [
  {
   "cell_type": "code",
   "execution_count": 61,
   "metadata": {},
   "outputs": [
    {
     "data": {
      "text/html": [
       "<div>\n",
       "<style scoped>\n",
       "    .dataframe tbody tr th:only-of-type {\n",
       "        vertical-align: middle;\n",
       "    }\n",
       "\n",
       "    .dataframe tbody tr th {\n",
       "        vertical-align: top;\n",
       "    }\n",
       "\n",
       "    .dataframe thead th {\n",
       "        text-align: right;\n",
       "    }\n",
       "</style>\n",
       "<table border=\"1\" class=\"dataframe\">\n",
       "  <thead>\n",
       "    <tr style=\"text-align: right;\">\n",
       "      <th></th>\n",
       "      <th>Дата</th>\n",
       "      <th>Критерий</th>\n",
       "      <th>Парам. №1</th>\n",
       "      <th>Парам. №2</th>\n",
       "      <th>Значение</th>\n",
       "    </tr>\n",
       "  </thead>\n",
       "  <tbody>\n",
       "    <tr>\n",
       "      <td>0</td>\n",
       "      <td>15.03.2020</td>\n",
       "      <td>views</td>\n",
       "      <td>NaN</td>\n",
       "      <td>NaN</td>\n",
       "      <td>4</td>\n",
       "    </tr>\n",
       "    <tr>\n",
       "      <td>1</td>\n",
       "      <td>15.03.2020</td>\n",
       "      <td>visitors</td>\n",
       "      <td>NaN</td>\n",
       "      <td>NaN</td>\n",
       "      <td>3</td>\n",
       "    </tr>\n",
       "    <tr>\n",
       "      <td>2</td>\n",
       "      <td>15.03.2020</td>\n",
       "      <td>gender</td>\n",
       "      <td>М</td>\n",
       "      <td>NaN</td>\n",
       "      <td>3</td>\n",
       "    </tr>\n",
       "    <tr>\n",
       "      <td>3</td>\n",
       "      <td>15.03.2020</td>\n",
       "      <td>age</td>\n",
       "      <td>24-27</td>\n",
       "      <td>NaN</td>\n",
       "      <td>1</td>\n",
       "    </tr>\n",
       "    <tr>\n",
       "      <td>4</td>\n",
       "      <td>15.03.2020</td>\n",
       "      <td>age</td>\n",
       "      <td>30-35</td>\n",
       "      <td>NaN</td>\n",
       "      <td>2</td>\n",
       "    </tr>\n",
       "  </tbody>\n",
       "</table>\n",
       "</div>"
      ],
      "text/plain": [
       "         Дата  Критерий Парам. №1 Парам. №2  Значение\n",
       "0  15.03.2020     views       NaN       NaN         4\n",
       "1  15.03.2020  visitors       NaN       NaN         3\n",
       "2  15.03.2020    gender         М       NaN         3\n",
       "3  15.03.2020       age     24-27       NaN         1\n",
       "4  15.03.2020       age     30-35       NaN         2"
      ]
     },
     "execution_count": 61,
     "metadata": {},
     "output_type": "execute_result"
    }
   ],
   "source": [
    "import pandas as pd\n",
    "import matplotlib.pyplot as plt\n",
    "df = pd.read_csv(\"https://raw.githubusercontent.com/dm-fedorov/python_basic/master/data/vkontakte_group_01_2016-08-01_2020-03-15.csv\")\n",
    "df.head()"
   ]
  },
  {
   "cell_type": "markdown",
   "metadata": {},
   "source": [
    "Определить статистику посещаемости группы (просмотры и посещения в год)"
   ]
  },
  {
   "cell_type": "code",
   "execution_count": 71,
   "metadata": {},
   "outputs": [
    {
     "data": {
      "text/html": [
       "<div>\n",
       "<style scoped>\n",
       "    .dataframe tbody tr th:only-of-type {\n",
       "        vertical-align: middle;\n",
       "    }\n",
       "\n",
       "    .dataframe tbody tr th {\n",
       "        vertical-align: top;\n",
       "    }\n",
       "\n",
       "    .dataframe thead th {\n",
       "        text-align: right;\n",
       "    }\n",
       "</style>\n",
       "<table border=\"1\" class=\"dataframe\">\n",
       "  <thead>\n",
       "    <tr style=\"text-align: right;\">\n",
       "      <th></th>\n",
       "      <th>Дата</th>\n",
       "      <th>Критерий</th>\n",
       "      <th>Парам. №1</th>\n",
       "      <th>Парам. №2</th>\n",
       "      <th>Значение</th>\n",
       "    </tr>\n",
       "  </thead>\n",
       "  <tbody>\n",
       "    <tr>\n",
       "      <td>0</td>\n",
       "      <td>15.03.2020</td>\n",
       "      <td>views</td>\n",
       "      <td>NaN</td>\n",
       "      <td>NaN</td>\n",
       "      <td>4</td>\n",
       "    </tr>\n",
       "    <tr>\n",
       "      <td>10</td>\n",
       "      <td>14.03.2020</td>\n",
       "      <td>views</td>\n",
       "      <td>NaN</td>\n",
       "      <td>NaN</td>\n",
       "      <td>14</td>\n",
       "    </tr>\n",
       "    <tr>\n",
       "      <td>32</td>\n",
       "      <td>13.03.2020</td>\n",
       "      <td>views</td>\n",
       "      <td>NaN</td>\n",
       "      <td>NaN</td>\n",
       "      <td>16</td>\n",
       "    </tr>\n",
       "    <tr>\n",
       "      <td>51</td>\n",
       "      <td>12.03.2020</td>\n",
       "      <td>views</td>\n",
       "      <td>NaN</td>\n",
       "      <td>NaN</td>\n",
       "      <td>17</td>\n",
       "    </tr>\n",
       "    <tr>\n",
       "      <td>73</td>\n",
       "      <td>11.03.2020</td>\n",
       "      <td>views</td>\n",
       "      <td>NaN</td>\n",
       "      <td>NaN</td>\n",
       "      <td>13</td>\n",
       "    </tr>\n",
       "    <tr>\n",
       "      <td>...</td>\n",
       "      <td>...</td>\n",
       "      <td>...</td>\n",
       "      <td>...</td>\n",
       "      <td>...</td>\n",
       "      <td>...</td>\n",
       "    </tr>\n",
       "    <tr>\n",
       "      <td>42201</td>\n",
       "      <td>05.08.2016</td>\n",
       "      <td>views</td>\n",
       "      <td>NaN</td>\n",
       "      <td>NaN</td>\n",
       "      <td>53</td>\n",
       "    </tr>\n",
       "    <tr>\n",
       "      <td>42249</td>\n",
       "      <td>04.08.2016</td>\n",
       "      <td>views</td>\n",
       "      <td>NaN</td>\n",
       "      <td>NaN</td>\n",
       "      <td>37</td>\n",
       "    </tr>\n",
       "    <tr>\n",
       "      <td>42297</td>\n",
       "      <td>03.08.2016</td>\n",
       "      <td>views</td>\n",
       "      <td>NaN</td>\n",
       "      <td>NaN</td>\n",
       "      <td>52</td>\n",
       "    </tr>\n",
       "    <tr>\n",
       "      <td>42345</td>\n",
       "      <td>02.08.2016</td>\n",
       "      <td>views</td>\n",
       "      <td>NaN</td>\n",
       "      <td>NaN</td>\n",
       "      <td>47</td>\n",
       "    </tr>\n",
       "    <tr>\n",
       "      <td>42398</td>\n",
       "      <td>01.08.2016</td>\n",
       "      <td>views</td>\n",
       "      <td>NaN</td>\n",
       "      <td>NaN</td>\n",
       "      <td>51</td>\n",
       "    </tr>\n",
       "  </tbody>\n",
       "</table>\n",
       "<p>1323 rows × 5 columns</p>\n",
       "</div>"
      ],
      "text/plain": [
       "             Дата Критерий Парам. №1 Парам. №2  Значение\n",
       "0      15.03.2020    views       NaN       NaN         4\n",
       "10     14.03.2020    views       NaN       NaN        14\n",
       "32     13.03.2020    views       NaN       NaN        16\n",
       "51     12.03.2020    views       NaN       NaN        17\n",
       "73     11.03.2020    views       NaN       NaN        13\n",
       "...           ...      ...       ...       ...       ...\n",
       "42201  05.08.2016    views       NaN       NaN        53\n",
       "42249  04.08.2016    views       NaN       NaN        37\n",
       "42297  03.08.2016    views       NaN       NaN        52\n",
       "42345  02.08.2016    views       NaN       NaN        47\n",
       "42398  01.08.2016    views       NaN       NaN        51\n",
       "\n",
       "[1323 rows x 5 columns]"
      ]
     },
     "execution_count": 71,
     "metadata": {},
     "output_type": "execute_result"
    }
   ],
   "source": [
    "newd=df[df.Критерий==\"views\"]\n",
    "newd"
   ]
  },
  {
   "cell_type": "code",
   "execution_count": 73,
   "metadata": {},
   "outputs": [],
   "source": [
    "from datetime import date\n",
    "from datetime import datetime, timedelta\n",
    "def day(datea):\n",
    "    now= datetime.strptime(datea, '%d.%m.%Y')\n",
    "    nownow = now.year\n",
    "    return nownow"
   ]
  },
  {
   "cell_type": "code",
   "execution_count": 75,
   "metadata": {},
   "outputs": [
    {
     "name": "stderr",
     "output_type": "stream",
     "text": [
      "C:\\Users\\Mi\\Anaconda3\\lib\\site-packages\\ipykernel_launcher.py:1: SettingWithCopyWarning: \n",
      "A value is trying to be set on a copy of a slice from a DataFrame.\n",
      "Try using .loc[row_indexer,col_indexer] = value instead\n",
      "\n",
      "See the caveats in the documentation: http://pandas.pydata.org/pandas-docs/stable/user_guide/indexing.html#returning-a-view-versus-a-copy\n",
      "  \"\"\"Entry point for launching an IPython kernel.\n"
     ]
    },
    {
     "data": {
      "text/html": [
       "<div>\n",
       "<style scoped>\n",
       "    .dataframe tbody tr th:only-of-type {\n",
       "        vertical-align: middle;\n",
       "    }\n",
       "\n",
       "    .dataframe tbody tr th {\n",
       "        vertical-align: top;\n",
       "    }\n",
       "\n",
       "    .dataframe thead th {\n",
       "        text-align: right;\n",
       "    }\n",
       "</style>\n",
       "<table border=\"1\" class=\"dataframe\">\n",
       "  <thead>\n",
       "    <tr style=\"text-align: right;\">\n",
       "      <th></th>\n",
       "      <th>Дата</th>\n",
       "      <th>Критерий</th>\n",
       "      <th>Парам. №1</th>\n",
       "      <th>Парам. №2</th>\n",
       "      <th>Значение</th>\n",
       "      <th>Дата2</th>\n",
       "    </tr>\n",
       "  </thead>\n",
       "  <tbody>\n",
       "    <tr>\n",
       "      <td>0</td>\n",
       "      <td>15.03.2020</td>\n",
       "      <td>views</td>\n",
       "      <td>NaN</td>\n",
       "      <td>NaN</td>\n",
       "      <td>4</td>\n",
       "      <td>2020</td>\n",
       "    </tr>\n",
       "    <tr>\n",
       "      <td>10</td>\n",
       "      <td>14.03.2020</td>\n",
       "      <td>views</td>\n",
       "      <td>NaN</td>\n",
       "      <td>NaN</td>\n",
       "      <td>14</td>\n",
       "      <td>2020</td>\n",
       "    </tr>\n",
       "    <tr>\n",
       "      <td>32</td>\n",
       "      <td>13.03.2020</td>\n",
       "      <td>views</td>\n",
       "      <td>NaN</td>\n",
       "      <td>NaN</td>\n",
       "      <td>16</td>\n",
       "      <td>2020</td>\n",
       "    </tr>\n",
       "    <tr>\n",
       "      <td>51</td>\n",
       "      <td>12.03.2020</td>\n",
       "      <td>views</td>\n",
       "      <td>NaN</td>\n",
       "      <td>NaN</td>\n",
       "      <td>17</td>\n",
       "      <td>2020</td>\n",
       "    </tr>\n",
       "    <tr>\n",
       "      <td>73</td>\n",
       "      <td>11.03.2020</td>\n",
       "      <td>views</td>\n",
       "      <td>NaN</td>\n",
       "      <td>NaN</td>\n",
       "      <td>13</td>\n",
       "      <td>2020</td>\n",
       "    </tr>\n",
       "    <tr>\n",
       "      <td>...</td>\n",
       "      <td>...</td>\n",
       "      <td>...</td>\n",
       "      <td>...</td>\n",
       "      <td>...</td>\n",
       "      <td>...</td>\n",
       "      <td>...</td>\n",
       "    </tr>\n",
       "    <tr>\n",
       "      <td>42201</td>\n",
       "      <td>05.08.2016</td>\n",
       "      <td>views</td>\n",
       "      <td>NaN</td>\n",
       "      <td>NaN</td>\n",
       "      <td>53</td>\n",
       "      <td>2016</td>\n",
       "    </tr>\n",
       "    <tr>\n",
       "      <td>42249</td>\n",
       "      <td>04.08.2016</td>\n",
       "      <td>views</td>\n",
       "      <td>NaN</td>\n",
       "      <td>NaN</td>\n",
       "      <td>37</td>\n",
       "      <td>2016</td>\n",
       "    </tr>\n",
       "    <tr>\n",
       "      <td>42297</td>\n",
       "      <td>03.08.2016</td>\n",
       "      <td>views</td>\n",
       "      <td>NaN</td>\n",
       "      <td>NaN</td>\n",
       "      <td>52</td>\n",
       "      <td>2016</td>\n",
       "    </tr>\n",
       "    <tr>\n",
       "      <td>42345</td>\n",
       "      <td>02.08.2016</td>\n",
       "      <td>views</td>\n",
       "      <td>NaN</td>\n",
       "      <td>NaN</td>\n",
       "      <td>47</td>\n",
       "      <td>2016</td>\n",
       "    </tr>\n",
       "    <tr>\n",
       "      <td>42398</td>\n",
       "      <td>01.08.2016</td>\n",
       "      <td>views</td>\n",
       "      <td>NaN</td>\n",
       "      <td>NaN</td>\n",
       "      <td>51</td>\n",
       "      <td>2016</td>\n",
       "    </tr>\n",
       "  </tbody>\n",
       "</table>\n",
       "<p>1323 rows × 6 columns</p>\n",
       "</div>"
      ],
      "text/plain": [
       "             Дата Критерий Парам. №1 Парам. №2  Значение  Дата2\n",
       "0      15.03.2020    views       NaN       NaN         4   2020\n",
       "10     14.03.2020    views       NaN       NaN        14   2020\n",
       "32     13.03.2020    views       NaN       NaN        16   2020\n",
       "51     12.03.2020    views       NaN       NaN        17   2020\n",
       "73     11.03.2020    views       NaN       NaN        13   2020\n",
       "...           ...      ...       ...       ...       ...    ...\n",
       "42201  05.08.2016    views       NaN       NaN        53   2016\n",
       "42249  04.08.2016    views       NaN       NaN        37   2016\n",
       "42297  03.08.2016    views       NaN       NaN        52   2016\n",
       "42345  02.08.2016    views       NaN       NaN        47   2016\n",
       "42398  01.08.2016    views       NaN       NaN        51   2016\n",
       "\n",
       "[1323 rows x 6 columns]"
      ]
     },
     "execution_count": 75,
     "metadata": {},
     "output_type": "execute_result"
    }
   ],
   "source": [
    "newd['Дата2'] = newd.apply(lambda x: day(x.Дата), axis=1)\n",
    "newd"
   ]
  },
  {
   "cell_type": "code",
   "execution_count": 99,
   "metadata": {},
   "outputs": [],
   "source": [
    "f=round(newd[newd[\"Дата2\"] == 2016][\"Значение\"].mean())\n",
    "s=round(newd[newd[\"Дата2\"] == 2017][\"Значение\"].mean())\n",
    "t=round(newd[newd[\"Дата2\"] == 2018][\"Значение\"].mean())\n",
    "fo=round(newd[newd[\"Дата2\"] == 2019][\"Значение\"].mean())\n",
    "fi=round(newd[newd[\"Дата2\"] == 2020][\"Значение\"].mean())\n",
    "list1=[f,s,t,fo,fi]\n",
    "list2=[\"2016\",\"2017\",\"2018\",\"2019\",\"2020\"]\n"
   ]
  },
  {
   "cell_type": "code",
   "execution_count": 100,
   "metadata": {},
   "outputs": [
    {
     "data": {
      "text/plain": [
       "[<matplotlib.lines.Line2D at 0x1ed5983d688>]"
      ]
     },
     "execution_count": 100,
     "metadata": {},
     "output_type": "execute_result"
    },
    {
     "data": {
      "image/png": "[encoded data removed]",
      "text/plain": [
       "<Figure size 432x288 with 1 Axes>"
      ]
     },
     "metadata": {
      "needs_background": "light"
     },
     "output_type": "display_data"
    }
   ],
   "source": [
    "plt.plot(list2,list1)#статистика просмотров группы в год"
   ]
  },
  {
   "cell_type": "code",
   "execution_count": 103,
   "metadata": {},
   "outputs": [
    {
     "data": {
      "text/html": [
       "<div>\n",
       "<style scoped>\n",
       "    .dataframe tbody tr th:only-of-type {\n",
       "        vertical-align: middle;\n",
       "    }\n",
       "\n",
       "    .dataframe tbody tr th {\n",
       "        vertical-align: top;\n",
       "    }\n",
       "\n",
       "    .dataframe thead th {\n",
       "        text-align: right;\n",
       "    }\n",
       "</style>\n",
       "<table border=\"1\" class=\"dataframe\">\n",
       "  <thead>\n",
       "    <tr style=\"text-align: right;\">\n",
       "      <th></th>\n",
       "      <th>Дата</th>\n",
       "      <th>Критерий</th>\n",
       "      <th>Парам. №1</th>\n",
       "      <th>Парам. №2</th>\n",
       "      <th>Значение</th>\n",
       "    </tr>\n",
       "  </thead>\n",
       "  <tbody>\n",
       "    <tr>\n",
       "      <td>1</td>\n",
       "      <td>15.03.2020</td>\n",
       "      <td>visitors</td>\n",
       "      <td>NaN</td>\n",
       "      <td>NaN</td>\n",
       "      <td>3</td>\n",
       "    </tr>\n",
       "    <tr>\n",
       "      <td>11</td>\n",
       "      <td>14.03.2020</td>\n",
       "      <td>visitors</td>\n",
       "      <td>NaN</td>\n",
       "      <td>NaN</td>\n",
       "      <td>10</td>\n",
       "    </tr>\n",
       "    <tr>\n",
       "      <td>33</td>\n",
       "      <td>13.03.2020</td>\n",
       "      <td>visitors</td>\n",
       "      <td>NaN</td>\n",
       "      <td>NaN</td>\n",
       "      <td>7</td>\n",
       "    </tr>\n",
       "    <tr>\n",
       "      <td>52</td>\n",
       "      <td>12.03.2020</td>\n",
       "      <td>visitors</td>\n",
       "      <td>NaN</td>\n",
       "      <td>NaN</td>\n",
       "      <td>13</td>\n",
       "    </tr>\n",
       "    <tr>\n",
       "      <td>74</td>\n",
       "      <td>11.03.2020</td>\n",
       "      <td>visitors</td>\n",
       "      <td>NaN</td>\n",
       "      <td>NaN</td>\n",
       "      <td>10</td>\n",
       "    </tr>\n",
       "    <tr>\n",
       "      <td>...</td>\n",
       "      <td>...</td>\n",
       "      <td>...</td>\n",
       "      <td>...</td>\n",
       "      <td>...</td>\n",
       "      <td>...</td>\n",
       "    </tr>\n",
       "    <tr>\n",
       "      <td>42202</td>\n",
       "      <td>05.08.2016</td>\n",
       "      <td>visitors</td>\n",
       "      <td>NaN</td>\n",
       "      <td>NaN</td>\n",
       "      <td>39</td>\n",
       "    </tr>\n",
       "    <tr>\n",
       "      <td>42250</td>\n",
       "      <td>04.08.2016</td>\n",
       "      <td>visitors</td>\n",
       "      <td>NaN</td>\n",
       "      <td>NaN</td>\n",
       "      <td>32</td>\n",
       "    </tr>\n",
       "    <tr>\n",
       "      <td>42298</td>\n",
       "      <td>03.08.2016</td>\n",
       "      <td>visitors</td>\n",
       "      <td>NaN</td>\n",
       "      <td>NaN</td>\n",
       "      <td>39</td>\n",
       "    </tr>\n",
       "    <tr>\n",
       "      <td>42346</td>\n",
       "      <td>02.08.2016</td>\n",
       "      <td>visitors</td>\n",
       "      <td>NaN</td>\n",
       "      <td>NaN</td>\n",
       "      <td>40</td>\n",
       "    </tr>\n",
       "    <tr>\n",
       "      <td>42399</td>\n",
       "      <td>01.08.2016</td>\n",
       "      <td>visitors</td>\n",
       "      <td>NaN</td>\n",
       "      <td>NaN</td>\n",
       "      <td>44</td>\n",
       "    </tr>\n",
       "  </tbody>\n",
       "</table>\n",
       "<p>1323 rows × 5 columns</p>\n",
       "</div>"
      ],
      "text/plain": [
       "             Дата  Критерий Парам. №1 Парам. №2  Значение\n",
       "1      15.03.2020  visitors       NaN       NaN         3\n",
       "11     14.03.2020  visitors       NaN       NaN        10\n",
       "33     13.03.2020  visitors       NaN       NaN         7\n",
       "52     12.03.2020  visitors       NaN       NaN        13\n",
       "74     11.03.2020  visitors       NaN       NaN        10\n",
       "...           ...       ...       ...       ...       ...\n",
       "42202  05.08.2016  visitors       NaN       NaN        39\n",
       "42250  04.08.2016  visitors       NaN       NaN        32\n",
       "42298  03.08.2016  visitors       NaN       NaN        39\n",
       "42346  02.08.2016  visitors       NaN       NaN        40\n",
       "42399  01.08.2016  visitors       NaN       NaN        44\n",
       "\n",
       "[1323 rows x 5 columns]"
      ]
     },
     "execution_count": 103,
     "metadata": {},
     "output_type": "execute_result"
    }
   ],
   "source": [
    "visitors=df[df.Критерий==\"visitors\"]\n",
    "visitors"
   ]
  },
  {
   "cell_type": "code",
   "execution_count": 104,
   "metadata": {},
   "outputs": [
    {
     "name": "stderr",
     "output_type": "stream",
     "text": [
      "C:\\Users\\Mi\\Anaconda3\\lib\\site-packages\\ipykernel_launcher.py:1: SettingWithCopyWarning: \n",
      "A value is trying to be set on a copy of a slice from a DataFrame.\n",
      "Try using .loc[row_indexer,col_indexer] = value instead\n",
      "\n",
      "See the caveats in the documentation: http://pandas.pydata.org/pandas-docs/stable/user_guide/indexing.html#returning-a-view-versus-a-copy\n",
      "  \"\"\"Entry point for launching an IPython kernel.\n"
     ]
    },
    {
     "data": {
      "text/html": [
       "<div>\n",
       "<style scoped>\n",
       "    .dataframe tbody tr th:only-of-type {\n",
       "        vertical-align: middle;\n",
       "    }\n",
       "\n",
       "    .dataframe tbody tr th {\n",
       "        vertical-align: top;\n",
       "    }\n",
       "\n",
       "    .dataframe thead th {\n",
       "        text-align: right;\n",
       "    }\n",
       "</style>\n",
       "<table border=\"1\" class=\"dataframe\">\n",
       "  <thead>\n",
       "    <tr style=\"text-align: right;\">\n",
       "      <th></th>\n",
       "      <th>Дата</th>\n",
       "      <th>Критерий</th>\n",
       "      <th>Парам. №1</th>\n",
       "      <th>Парам. №2</th>\n",
       "      <th>Значение</th>\n",
       "      <th>Дата2</th>\n",
       "    </tr>\n",
       "  </thead>\n",
       "  <tbody>\n",
       "    <tr>\n",
       "      <td>1</td>\n",
       "      <td>15.03.2020</td>\n",
       "      <td>visitors</td>\n",
       "      <td>NaN</td>\n",
       "      <td>NaN</td>\n",
       "      <td>3</td>\n",
       "      <td>2020</td>\n",
       "    </tr>\n",
       "    <tr>\n",
       "      <td>11</td>\n",
       "      <td>14.03.2020</td>\n",
       "      <td>visitors</td>\n",
       "      <td>NaN</td>\n",
       "      <td>NaN</td>\n",
       "      <td>10</td>\n",
       "      <td>2020</td>\n",
       "    </tr>\n",
       "    <tr>\n",
       "      <td>33</td>\n",
       "      <td>13.03.2020</td>\n",
       "      <td>visitors</td>\n",
       "      <td>NaN</td>\n",
       "      <td>NaN</td>\n",
       "      <td>7</td>\n",
       "      <td>2020</td>\n",
       "    </tr>\n",
       "    <tr>\n",
       "      <td>52</td>\n",
       "      <td>12.03.2020</td>\n",
       "      <td>visitors</td>\n",
       "      <td>NaN</td>\n",
       "      <td>NaN</td>\n",
       "      <td>13</td>\n",
       "      <td>2020</td>\n",
       "    </tr>\n",
       "    <tr>\n",
       "      <td>74</td>\n",
       "      <td>11.03.2020</td>\n",
       "      <td>visitors</td>\n",
       "      <td>NaN</td>\n",
       "      <td>NaN</td>\n",
       "      <td>10</td>\n",
       "      <td>2020</td>\n",
       "    </tr>\n",
       "    <tr>\n",
       "      <td>...</td>\n",
       "      <td>...</td>\n",
       "      <td>...</td>\n",
       "      <td>...</td>\n",
       "      <td>...</td>\n",
       "      <td>...</td>\n",
       "      <td>...</td>\n",
       "    </tr>\n",
       "    <tr>\n",
       "      <td>42202</td>\n",
       "      <td>05.08.2016</td>\n",
       "      <td>visitors</td>\n",
       "      <td>NaN</td>\n",
       "      <td>NaN</td>\n",
       "      <td>39</td>\n",
       "      <td>2016</td>\n",
       "    </tr>\n",
       "    <tr>\n",
       "      <td>42250</td>\n",
       "      <td>04.08.2016</td>\n",
       "      <td>visitors</td>\n",
       "      <td>NaN</td>\n",
       "      <td>NaN</td>\n",
       "      <td>32</td>\n",
       "      <td>2016</td>\n",
       "    </tr>\n",
       "    <tr>\n",
       "      <td>42298</td>\n",
       "      <td>03.08.2016</td>\n",
       "      <td>visitors</td>\n",
       "      <td>NaN</td>\n",
       "      <td>NaN</td>\n",
       "      <td>39</td>\n",
       "      <td>2016</td>\n",
       "    </tr>\n",
       "    <tr>\n",
       "      <td>42346</td>\n",
       "      <td>02.08.2016</td>\n",
       "      <td>visitors</td>\n",
       "      <td>NaN</td>\n",
       "      <td>NaN</td>\n",
       "      <td>40</td>\n",
       "      <td>2016</td>\n",
       "    </tr>\n",
       "    <tr>\n",
       "      <td>42399</td>\n",
       "      <td>01.08.2016</td>\n",
       "      <td>visitors</td>\n",
       "      <td>NaN</td>\n",
       "      <td>NaN</td>\n",
       "      <td>44</td>\n",
       "      <td>2016</td>\n",
       "    </tr>\n",
       "  </tbody>\n",
       "</table>\n",
       "<p>1323 rows × 6 columns</p>\n",
       "</div>"
      ],
      "text/plain": [
       "             Дата  Критерий Парам. №1 Парам. №2  Значение  Дата2\n",
       "1      15.03.2020  visitors       NaN       NaN         3   2020\n",
       "11     14.03.2020  visitors       NaN       NaN        10   2020\n",
       "33     13.03.2020  visitors       NaN       NaN         7   2020\n",
       "52     12.03.2020  visitors       NaN       NaN        13   2020\n",
       "74     11.03.2020  visitors       NaN       NaN        10   2020\n",
       "...           ...       ...       ...       ...       ...    ...\n",
       "42202  05.08.2016  visitors       NaN       NaN        39   2016\n",
       "42250  04.08.2016  visitors       NaN       NaN        32   2016\n",
       "42298  03.08.2016  visitors       NaN       NaN        39   2016\n",
       "42346  02.08.2016  visitors       NaN       NaN        40   2016\n",
       "42399  01.08.2016  visitors       NaN       NaN        44   2016\n",
       "\n",
       "[1323 rows x 6 columns]"
      ]
     },
     "execution_count": 104,
     "metadata": {},
     "output_type": "execute_result"
    }
   ],
   "source": [
    "visitors['Дата2'] = visitors.apply(lambda x: day(x.Дата), axis=1)\n",
    "visitors"
   ]
  },
  {
   "cell_type": "code",
   "execution_count": 105,
   "metadata": {},
   "outputs": [],
   "source": [
    "fi=round(visitors[visitors[\"Дата2\"] == 2016][\"Значение\"].mean())\n",
    "se=round(visitors[visitors[\"Дата2\"] == 2017][\"Значение\"].mean())\n",
    "th=round(visitors[visitors[\"Дата2\"] == 2018][\"Значение\"].mean())\n",
    "forth=round(visitors[visitors[\"Дата2\"] == 2019][\"Значение\"].mean())\n",
    "fit=round(visitors[visitors[\"Дата2\"] == 2020][\"Значение\"].mean())\n",
    "list3=[fi,se,th,forth,fit]"
   ]
  },
  {
   "cell_type": "code",
   "execution_count": 106,
   "metadata": {},
   "outputs": [
    {
     "data": {
      "text/plain": [
       "[<matplotlib.lines.Line2D at 0x1ed59927348>]"
      ]
     },
     "execution_count": 106,
     "metadata": {},
     "output_type": "execute_result"
    },
    {
     "data": {
      "image/png": "[encoded data removed]",
      "text/plain": [
       "<Figure size 432x288 with 1 Axes>"
      ]
     },
     "metadata": {
      "needs_background": "light"
     },
     "output_type": "display_data"
    }
   ],
   "source": [
    "plt.plot(list2,list3)#статистика посещений группы в год"
   ]
  },
  {
   "cell_type": "markdown",
   "metadata": {},
   "source": [
    "Провести анализ охвата аудитории (reach/reach_subscribers)"
   ]
  },
  {
   "cell_type": "code",
   "execution_count": 119,
   "metadata": {},
   "outputs": [
    {
     "data": {
      "image/png": "[encoded data removed]",
      "text/plain": [
       "<Figure size 432x288 with 1 Axes>"
      ]
     },
     "metadata": {},
     "output_type": "display_data"
    }
   ],
   "source": [
    "one=df[(df[\"Критерий\"]==\"reach\")][\"Значение\"].sum()\n",
    "two=df[(df[\"Критерий\"]==\"reach_subscribers\")][\"Значение\"].sum()\n",
    "three=one-two\n",
    "import matplotlib.pyplot as pltt\n",
    "labels = [\"С подпиской\",\"Без подписки\"]\n",
    "values = [two,three]\n",
    "fig1, ax1 = pltt.subplots()\n",
    "ax1.pie(values, labels=labels)\n",
    "pltt.show()"
   ]
  },
  {
   "cell_type": "markdown",
   "metadata": {},
   "source": [
    "Провести анализ демографии (пол - gender, возраст аудитории - age, gender_age, страна - countries)"
   ]
  },
  {
   "cell_type": "code",
   "execution_count": 132,
   "metadata": {},
   "outputs": [
    {
     "data": {
      "image/png": "[encoded data removed]",
      "text/plain": [
       "<Figure size 432x288 with 1 Axes>"
      ]
     },
     "metadata": {},
     "output_type": "display_data"
    }
   ],
   "source": [
    "men=df[(df[\"Парам. №1\"]==\"М\")][\"Значение\"].sum()\n",
    "women=df[(df[\"Парам. №1\"]==\"Ж\")][\"Значение\"].sum()\n",
    "labels1 = [\"Мужчины\",\"Женщины\"]\n",
    "values1 = [men,women]\n",
    "fig11, ax11 = pltt.subplots()\n",
    "ax11.pie(values1, labels=labels1)\n",
    "pltt.show()"
   ]
  },
  {
   "cell_type": "code",
   "execution_count": 135,
   "metadata": {},
   "outputs": [
    {
     "data": {
      "image/png": "[encoded data removed]",
      "text/plain": [
       "<Figure size 432x288 with 1 Axes>"
      ]
     },
     "metadata": {},
     "output_type": "display_data"
    }
   ],
   "source": [
    "kids=(df[(df[\"Парам. №1\"]==\"1-18\")][\"Значение\"].sum())+(df[(df[\"Парам. №2\"]==\"1-18\")][\"Значение\"].sum())\n",
    "teens=(df[(df[\"Парам. №1\"]==\"18-21\")][\"Значение\"].sum())+(df[(df[\"Парам. №2\"]==\"18-21\")][\"Значение\"].sum())\n",
    "superyoung=(df[(df[\"Парам. №1\"]==\"21-24\")][\"Значение\"].sum())+(df[(df[\"Парам. №2\"]==\"21-24\")][\"Значение\"].sum())\n",
    "young=(df[(df[\"Парам. №1\"]==\"24-27\")][\"Значение\"].sum())+(df[(df[\"Парам. №2\"]==\"24-27\")][\"Значение\"].sum())\n",
    "older=(df[(df[\"Парам. №1\"]==\"27-30\")][\"Значение\"].sum())+(df[(df[\"Парам. №2\"]==\"27-30\")][\"Значение\"].sum())\n",
    "older2=(df[(df[\"Парам. №1\"]==\"30-35\")][\"Значение\"].sum())+(df[(df[\"Парам. №2\"]==\"30-35\")][\"Значение\"].sum())\n",
    "old=(df[(df[\"Парам. №1\"]==\"35-45\")][\"Значение\"].sum())+(df[(df[\"Парам. №2\"]==\"35-45\")][\"Значение\"].sum())\n",
    "superold=(df[(df[\"Парам. №1\"]==\"45+\")][\"Значение\"].sum())+(df[(df[\"Парам. №2\"]==\"45+\")][\"Значение\"].sum())\n",
    "labels2 = [\"1-18\",\"18-21\",\"21-24\",\"24-27\",\"27-30\",\"30-35\",\"35-45\",\"45+\"]\n",
    "values2 = [kids,teens,superyoung,young,older,older2,old,superold]\n",
    "fig12, ax12 = pltt.subplots()\n",
    "ax12.pie(values2, labels=labels2)\n",
    "pltt.show()"
   ]
  },
  {
   "cell_type": "code",
   "execution_count": 151,
   "metadata": {},
   "outputs": [],
   "source": [
    "u=df[df[\"Критерий\"]==\"countries\"][\"Парам. №1\"].unique()"
   ]
  },
  {
   "cell_type": "code",
   "execution_count": 149,
   "metadata": {},
   "outputs": [],
   "source": [
    "l=len(df[df[\"Критерий\"]==\"countries\"][\"Парам. №1\"].unique())"
   ]
  },
  {
   "cell_type": "code",
   "execution_count": 197,
   "metadata": {},
   "outputs": [
    {
     "data": {
      "text/plain": [
       "[22367, 994, 506]"
      ]
     },
     "execution_count": 197,
     "metadata": {},
     "output_type": "execute_result"
    }
   ],
   "source": [
    "lll=[]\n",
    "for i in range(l):\n",
    "    a=df[(df[\"Критерий\"]==\"countries\")&(df[\"Парам. №1\"]==u[i])][\"Значение\"].sum()\n",
    "    lll.append(a)\n",
    "mmm=sorted(lll, reverse=True)\n",
    "sum(mmm[3::])\n",
    "el=(list(u)[:3])\n",
    "mmm[:3]"
   ]
  },
  {
   "cell_type": "code",
   "execution_count": 198,
   "metadata": {},
   "outputs": [
    {
     "data": {
      "image/png": "[encoded data removed]",
      "text/plain": [
       "<Figure size 432x288 with 1 Axes>"
      ]
     },
     "metadata": {},
     "output_type": "display_data"
    }
   ],
   "source": [
    "fig13, ax13 = pltt.subplots()\n",
    "ax13.pie([22367, 994, 506,sum(mmm[3::])], labels=['Россия', 'Украина', 'Беларусь','Другие'])\n",
    "pltt.show()"
   ]
  },
  {
   "cell_type": "markdown",
   "metadata": {},
   "source": [
    "Провести анализ обратной связи"
   ]
  },
  {
   "cell_type": "code",
   "execution_count": 201,
   "metadata": {},
   "outputs": [
    {
     "data": {
      "text/plain": [
       "array(['Нравится', 'Рассказали друзьям', 'Комментарии', 'Упоминания'],\n",
       "      dtype=object)"
      ]
     },
     "execution_count": 201,
     "metadata": {},
     "output_type": "execute_result"
    }
   ],
   "source": [
    "df[df['Критерий']==\"feedback\"]['Парам. №1'].unique()"
   ]
  },
  {
   "cell_type": "code",
   "execution_count": 205,
   "metadata": {},
   "outputs": [
    {
     "name": "stderr",
     "output_type": "stream",
     "text": [
      "C:\\Users\\Mi\\Anaconda3\\lib\\site-packages\\ipykernel_launcher.py:2: SettingWithCopyWarning: \n",
      "A value is trying to be set on a copy of a slice from a DataFrame.\n",
      "Try using .loc[row_indexer,col_indexer] = value instead\n",
      "\n",
      "See the caveats in the documentation: http://pandas.pydata.org/pandas-docs/stable/user_guide/indexing.html#returning-a-view-versus-a-copy\n",
      "  \n"
     ]
    },
    {
     "data": {
      "text/html": [
       "<div>\n",
       "<style scoped>\n",
       "    .dataframe tbody tr th:only-of-type {\n",
       "        vertical-align: middle;\n",
       "    }\n",
       "\n",
       "    .dataframe tbody tr th {\n",
       "        vertical-align: top;\n",
       "    }\n",
       "\n",
       "    .dataframe thead th {\n",
       "        text-align: right;\n",
       "    }\n",
       "</style>\n",
       "<table border=\"1\" class=\"dataframe\">\n",
       "  <thead>\n",
       "    <tr style=\"text-align: right;\">\n",
       "      <th></th>\n",
       "      <th>Дата</th>\n",
       "      <th>Критерий</th>\n",
       "      <th>Парам. №1</th>\n",
       "      <th>Парам. №2</th>\n",
       "      <th>Значение</th>\n",
       "      <th>Дата2</th>\n",
       "    </tr>\n",
       "  </thead>\n",
       "  <tbody>\n",
       "    <tr>\n",
       "      <td>49</td>\n",
       "      <td>13.03.2020</td>\n",
       "      <td>feedback</td>\n",
       "      <td>Нравится</td>\n",
       "      <td>NaN</td>\n",
       "      <td>2</td>\n",
       "      <td>2020</td>\n",
       "    </tr>\n",
       "    <tr>\n",
       "      <td>70</td>\n",
       "      <td>12.03.2020</td>\n",
       "      <td>feedback</td>\n",
       "      <td>Нравится</td>\n",
       "      <td>NaN</td>\n",
       "      <td>1</td>\n",
       "      <td>2020</td>\n",
       "    </tr>\n",
       "    <tr>\n",
       "      <td>117</td>\n",
       "      <td>10.03.2020</td>\n",
       "      <td>feedback</td>\n",
       "      <td>Нравится</td>\n",
       "      <td>NaN</td>\n",
       "      <td>2</td>\n",
       "      <td>2020</td>\n",
       "    </tr>\n",
       "    <tr>\n",
       "      <td>386</td>\n",
       "      <td>26.02.2020</td>\n",
       "      <td>feedback</td>\n",
       "      <td>Нравится</td>\n",
       "      <td>NaN</td>\n",
       "      <td>1</td>\n",
       "      <td>2020</td>\n",
       "    </tr>\n",
       "    <tr>\n",
       "      <td>436</td>\n",
       "      <td>24.02.2020</td>\n",
       "      <td>feedback</td>\n",
       "      <td>Нравится</td>\n",
       "      <td>NaN</td>\n",
       "      <td>2</td>\n",
       "      <td>2020</td>\n",
       "    </tr>\n",
       "    <tr>\n",
       "      <td>...</td>\n",
       "      <td>...</td>\n",
       "      <td>...</td>\n",
       "      <td>...</td>\n",
       "      <td>...</td>\n",
       "      <td>...</td>\n",
       "      <td>...</td>\n",
       "    </tr>\n",
       "    <tr>\n",
       "      <td>42245</td>\n",
       "      <td>05.08.2016</td>\n",
       "      <td>feedback</td>\n",
       "      <td>Нравится</td>\n",
       "      <td>NaN</td>\n",
       "      <td>3</td>\n",
       "      <td>2016</td>\n",
       "    </tr>\n",
       "    <tr>\n",
       "      <td>42293</td>\n",
       "      <td>04.08.2016</td>\n",
       "      <td>feedback</td>\n",
       "      <td>Нравится</td>\n",
       "      <td>NaN</td>\n",
       "      <td>5</td>\n",
       "      <td>2016</td>\n",
       "    </tr>\n",
       "    <tr>\n",
       "      <td>42342</td>\n",
       "      <td>03.08.2016</td>\n",
       "      <td>feedback</td>\n",
       "      <td>Нравится</td>\n",
       "      <td>NaN</td>\n",
       "      <td>3</td>\n",
       "      <td>2016</td>\n",
       "    </tr>\n",
       "    <tr>\n",
       "      <td>42394</td>\n",
       "      <td>02.08.2016</td>\n",
       "      <td>feedback</td>\n",
       "      <td>Нравится</td>\n",
       "      <td>NaN</td>\n",
       "      <td>1</td>\n",
       "      <td>2016</td>\n",
       "    </tr>\n",
       "    <tr>\n",
       "      <td>42449</td>\n",
       "      <td>01.08.2016</td>\n",
       "      <td>feedback</td>\n",
       "      <td>Нравится</td>\n",
       "      <td>NaN</td>\n",
       "      <td>4</td>\n",
       "      <td>2016</td>\n",
       "    </tr>\n",
       "  </tbody>\n",
       "</table>\n",
       "<p>683 rows × 6 columns</p>\n",
       "</div>"
      ],
      "text/plain": [
       "             Дата  Критерий Парам. №1 Парам. №2  Значение  Дата2\n",
       "49     13.03.2020  feedback  Нравится       NaN         2   2020\n",
       "70     12.03.2020  feedback  Нравится       NaN         1   2020\n",
       "117    10.03.2020  feedback  Нравится       NaN         2   2020\n",
       "386    26.02.2020  feedback  Нравится       NaN         1   2020\n",
       "436    24.02.2020  feedback  Нравится       NaN         2   2020\n",
       "...           ...       ...       ...       ...       ...    ...\n",
       "42245  05.08.2016  feedback  Нравится       NaN         3   2016\n",
       "42293  04.08.2016  feedback  Нравится       NaN         5   2016\n",
       "42342  03.08.2016  feedback  Нравится       NaN         3   2016\n",
       "42394  02.08.2016  feedback  Нравится       NaN         1   2016\n",
       "42449  01.08.2016  feedback  Нравится       NaN         4   2016\n",
       "\n",
       "[683 rows x 6 columns]"
      ]
     },
     "execution_count": 205,
     "metadata": {},
     "output_type": "execute_result"
    }
   ],
   "source": [
    "like=df[(df['Критерий']==\"feedback\")&(df['Парам. №1']=='Нравится')]\n",
    "like['Дата2'] = like.apply(lambda x: day(x.Дата), axis=1)\n",
    "like"
   ]
  },
  {
   "cell_type": "code",
   "execution_count": 206,
   "metadata": {},
   "outputs": [
    {
     "data": {
      "text/plain": [
       "[3, 2, 2, 5, 2]"
      ]
     },
     "execution_count": 206,
     "metadata": {},
     "output_type": "execute_result"
    }
   ],
   "source": [
    "sss=round(like[like[\"Дата2\"] == 2016][\"Значение\"].mean())\n",
    "ssss=round(like[like[\"Дата2\"] == 2017][\"Значение\"].mean())\n",
    "sssss=round(like[like[\"Дата2\"] == 2018][\"Значение\"].mean())\n",
    "ssssss=round(like[like[\"Дата2\"] == 2019][\"Значение\"].mean())\n",
    "sssssss=round(like[like[\"Дата2\"] == 2020][\"Значение\"].mean())\n",
    "list4=[sss,ssss,sssss,ssssss,sssssss]\n",
    "list4"
   ]
  },
  {
   "cell_type": "code",
   "execution_count": 208,
   "metadata": {},
   "outputs": [
    {
     "data": {
      "text/plain": [
       "[<matplotlib.lines.Line2D at 0x1ed5ada3908>]"
      ]
     },
     "execution_count": 208,
     "metadata": {},
     "output_type": "execute_result"
    },
    {
     "data": {
      "image/png": "[encoded data removed]",
      "text/plain": [
       "<Figure size 432x288 with 1 Axes>"
      ]
     },
     "metadata": {
      "needs_background": "light"
     },
     "output_type": "display_data"
    }
   ],
   "source": [
    "plt.plot(list2,list4)#статистика лайков в группе в год"
   ]
  },
  {
   "cell_type": "code",
   "execution_count": 211,
   "metadata": {},
   "outputs": [
    {
     "name": "stderr",
     "output_type": "stream",
     "text": [
      "C:\\Users\\Mi\\Anaconda3\\lib\\site-packages\\ipykernel_launcher.py:2: SettingWithCopyWarning: \n",
      "A value is trying to be set on a copy of a slice from a DataFrame.\n",
      "Try using .loc[row_indexer,col_indexer] = value instead\n",
      "\n",
      "See the caveats in the documentation: http://pandas.pydata.org/pandas-docs/stable/user_guide/indexing.html#returning-a-view-versus-a-copy\n",
      "  \n"
     ]
    },
    {
     "data": {
      "text/html": [
       "<div>\n",
       "<style scoped>\n",
       "    .dataframe tbody tr th:only-of-type {\n",
       "        vertical-align: middle;\n",
       "    }\n",
       "\n",
       "    .dataframe tbody tr th {\n",
       "        vertical-align: top;\n",
       "    }\n",
       "\n",
       "    .dataframe thead th {\n",
       "        text-align: right;\n",
       "    }\n",
       "</style>\n",
       "<table border=\"1\" class=\"dataframe\">\n",
       "  <thead>\n",
       "    <tr style=\"text-align: right;\">\n",
       "      <th></th>\n",
       "      <th>Дата</th>\n",
       "      <th>Критерий</th>\n",
       "      <th>Парам. №1</th>\n",
       "      <th>Парам. №2</th>\n",
       "      <th>Значение</th>\n",
       "      <th>Дата2</th>\n",
       "    </tr>\n",
       "  </thead>\n",
       "  <tbody>\n",
       "    <tr>\n",
       "      <td>681</td>\n",
       "      <td>14.02.2020</td>\n",
       "      <td>feedback</td>\n",
       "      <td>Комментарии</td>\n",
       "      <td>NaN</td>\n",
       "      <td>1</td>\n",
       "      <td>2020</td>\n",
       "    </tr>\n",
       "    <tr>\n",
       "      <td>989</td>\n",
       "      <td>01.02.2020</td>\n",
       "      <td>feedback</td>\n",
       "      <td>Комментарии</td>\n",
       "      <td>NaN</td>\n",
       "      <td>1</td>\n",
       "      <td>2020</td>\n",
       "    </tr>\n",
       "    <tr>\n",
       "      <td>1015</td>\n",
       "      <td>31.01.2020</td>\n",
       "      <td>feedback</td>\n",
       "      <td>Комментарии</td>\n",
       "      <td>NaN</td>\n",
       "      <td>2</td>\n",
       "      <td>2020</td>\n",
       "    </tr>\n",
       "    <tr>\n",
       "      <td>1064</td>\n",
       "      <td>29.01.2020</td>\n",
       "      <td>feedback</td>\n",
       "      <td>Комментарии</td>\n",
       "      <td>NaN</td>\n",
       "      <td>6</td>\n",
       "      <td>2020</td>\n",
       "    </tr>\n",
       "    <tr>\n",
       "      <td>1246</td>\n",
       "      <td>22.01.2020</td>\n",
       "      <td>feedback</td>\n",
       "      <td>Комментарии</td>\n",
       "      <td>NaN</td>\n",
       "      <td>1</td>\n",
       "      <td>2020</td>\n",
       "    </tr>\n",
       "    <tr>\n",
       "      <td>...</td>\n",
       "      <td>...</td>\n",
       "      <td>...</td>\n",
       "      <td>...</td>\n",
       "      <td>...</td>\n",
       "      <td>...</td>\n",
       "      <td>...</td>\n",
       "    </tr>\n",
       "    <tr>\n",
       "      <td>39492</td>\n",
       "      <td>04.10.2016</td>\n",
       "      <td>feedback</td>\n",
       "      <td>Комментарии</td>\n",
       "      <td>NaN</td>\n",
       "      <td>3</td>\n",
       "      <td>2016</td>\n",
       "    </tr>\n",
       "    <tr>\n",
       "      <td>39551</td>\n",
       "      <td>03.10.2016</td>\n",
       "      <td>feedback</td>\n",
       "      <td>Комментарии</td>\n",
       "      <td>NaN</td>\n",
       "      <td>12</td>\n",
       "      <td>2016</td>\n",
       "    </tr>\n",
       "    <tr>\n",
       "      <td>40804</td>\n",
       "      <td>05.09.2016</td>\n",
       "      <td>feedback</td>\n",
       "      <td>Комментарии</td>\n",
       "      <td>NaN</td>\n",
       "      <td>1</td>\n",
       "      <td>2016</td>\n",
       "    </tr>\n",
       "    <tr>\n",
       "      <td>41263</td>\n",
       "      <td>26.08.2016</td>\n",
       "      <td>feedback</td>\n",
       "      <td>Комментарии</td>\n",
       "      <td>NaN</td>\n",
       "      <td>1</td>\n",
       "      <td>2016</td>\n",
       "    </tr>\n",
       "    <tr>\n",
       "      <td>42395</td>\n",
       "      <td>02.08.2016</td>\n",
       "      <td>feedback</td>\n",
       "      <td>Комментарии</td>\n",
       "      <td>NaN</td>\n",
       "      <td>1</td>\n",
       "      <td>2016</td>\n",
       "    </tr>\n",
       "  </tbody>\n",
       "</table>\n",
       "<p>91 rows × 6 columns</p>\n",
       "</div>"
      ],
      "text/plain": [
       "             Дата  Критерий    Парам. №1 Парам. №2  Значение  Дата2\n",
       "681    14.02.2020  feedback  Комментарии       NaN         1   2020\n",
       "989    01.02.2020  feedback  Комментарии       NaN         1   2020\n",
       "1015   31.01.2020  feedback  Комментарии       NaN         2   2020\n",
       "1064   29.01.2020  feedback  Комментарии       NaN         6   2020\n",
       "1246   22.01.2020  feedback  Комментарии       NaN         1   2020\n",
       "...           ...       ...          ...       ...       ...    ...\n",
       "39492  04.10.2016  feedback  Комментарии       NaN         3   2016\n",
       "39551  03.10.2016  feedback  Комментарии       NaN        12   2016\n",
       "40804  05.09.2016  feedback  Комментарии       NaN         1   2016\n",
       "41263  26.08.2016  feedback  Комментарии       NaN         1   2016\n",
       "42395  02.08.2016  feedback  Комментарии       NaN         1   2016\n",
       "\n",
       "[91 rows x 6 columns]"
      ]
     },
     "execution_count": 211,
     "metadata": {},
     "output_type": "execute_result"
    }
   ],
   "source": [
    "comment=df[(df['Критерий']==\"feedback\")&(df['Парам. №1']=='Комментарии')]\n",
    "comment['Дата2'] = comment.apply(lambda x: day(x.Дата), axis=1)\n",
    "comment"
   ]
  },
  {
   "cell_type": "code",
   "execution_count": 212,
   "metadata": {},
   "outputs": [
    {
     "data": {
      "text/plain": [
       "[3, 1, 1, 3, 2]"
      ]
     },
     "execution_count": 212,
     "metadata": {},
     "output_type": "execute_result"
    }
   ],
   "source": [
    "w=round(comment[comment[\"Дата2\"] == 2016][\"Значение\"].mean())\n",
    "ww=round(comment[comment[\"Дата2\"] == 2017][\"Значение\"].mean())\n",
    "www=round(comment[comment[\"Дата2\"] == 2018][\"Значение\"].mean())\n",
    "wwww=round(comment[comment[\"Дата2\"] == 2019][\"Значение\"].mean())\n",
    "wwwww=round(comment[comment[\"Дата2\"] == 2020][\"Значение\"].mean())\n",
    "list5=[w,ww,www,wwww,wwwww]\n",
    "list5"
   ]
  },
  {
   "cell_type": "code",
   "execution_count": 213,
   "metadata": {},
   "outputs": [
    {
     "data": {
      "text/plain": [
       "[<matplotlib.lines.Line2D at 0x1ed5ae08708>]"
      ]
     },
     "execution_count": 213,
     "metadata": {},
     "output_type": "execute_result"
    },
    {
     "data": {
      "image/png": "[encoded data removed]",
      "text/plain": [
       "<Figure size 432x288 with 1 Axes>"
      ]
     },
     "metadata": {
      "needs_background": "light"
     },
     "output_type": "display_data"
    }
   ],
   "source": [
    "plt.plot(list2,list5)#статистика комментариев в группе в год"
   ]
  },
  {
   "cell_type": "code",
   "execution_count": 214,
   "metadata": {},
   "outputs": [
    {
     "name": "stderr",
     "output_type": "stream",
     "text": [
      "C:\\Users\\Mi\\Anaconda3\\lib\\site-packages\\ipykernel_launcher.py:2: SettingWithCopyWarning: \n",
      "A value is trying to be set on a copy of a slice from a DataFrame.\n",
      "Try using .loc[row_indexer,col_indexer] = value instead\n",
      "\n",
      "See the caveats in the documentation: http://pandas.pydata.org/pandas-docs/stable/user_guide/indexing.html#returning-a-view-versus-a-copy\n",
      "  \n"
     ]
    },
    {
     "data": {
      "text/html": [
       "<div>\n",
       "<style scoped>\n",
       "    .dataframe tbody tr th:only-of-type {\n",
       "        vertical-align: middle;\n",
       "    }\n",
       "\n",
       "    .dataframe tbody tr th {\n",
       "        vertical-align: top;\n",
       "    }\n",
       "\n",
       "    .dataframe thead th {\n",
       "        text-align: right;\n",
       "    }\n",
       "</style>\n",
       "<table border=\"1\" class=\"dataframe\">\n",
       "  <thead>\n",
       "    <tr style=\"text-align: right;\">\n",
       "      <th></th>\n",
       "      <th>Дата</th>\n",
       "      <th>Критерий</th>\n",
       "      <th>Парам. №1</th>\n",
       "      <th>Парам. №2</th>\n",
       "      <th>Значение</th>\n",
       "      <th>Дата2</th>\n",
       "    </tr>\n",
       "  </thead>\n",
       "  <tbody>\n",
       "    <tr>\n",
       "      <td>387</td>\n",
       "      <td>26.02.2020</td>\n",
       "      <td>feedback</td>\n",
       "      <td>Рассказали друзьям</td>\n",
       "      <td>NaN</td>\n",
       "      <td>1</td>\n",
       "      <td>2020</td>\n",
       "    </tr>\n",
       "    <tr>\n",
       "      <td>750</td>\n",
       "      <td>11.02.2020</td>\n",
       "      <td>feedback</td>\n",
       "      <td>Рассказали друзьям</td>\n",
       "      <td>NaN</td>\n",
       "      <td>1</td>\n",
       "      <td>2020</td>\n",
       "    </tr>\n",
       "    <tr>\n",
       "      <td>1270</td>\n",
       "      <td>21.01.2020</td>\n",
       "      <td>feedback</td>\n",
       "      <td>Рассказали друзьям</td>\n",
       "      <td>NaN</td>\n",
       "      <td>1</td>\n",
       "      <td>2020</td>\n",
       "    </tr>\n",
       "    <tr>\n",
       "      <td>1410</td>\n",
       "      <td>16.01.2020</td>\n",
       "      <td>feedback</td>\n",
       "      <td>Рассказали друзьям</td>\n",
       "      <td>NaN</td>\n",
       "      <td>3</td>\n",
       "      <td>2020</td>\n",
       "    </tr>\n",
       "    <tr>\n",
       "      <td>1559</td>\n",
       "      <td>10.01.2020</td>\n",
       "      <td>feedback</td>\n",
       "      <td>Рассказали друзьям</td>\n",
       "      <td>NaN</td>\n",
       "      <td>1</td>\n",
       "      <td>2020</td>\n",
       "    </tr>\n",
       "    <tr>\n",
       "      <td>...</td>\n",
       "      <td>...</td>\n",
       "      <td>...</td>\n",
       "      <td>...</td>\n",
       "      <td>...</td>\n",
       "      <td>...</td>\n",
       "      <td>...</td>\n",
       "    </tr>\n",
       "    <tr>\n",
       "      <td>42101</td>\n",
       "      <td>08.08.2016</td>\n",
       "      <td>feedback</td>\n",
       "      <td>Рассказали друзьям</td>\n",
       "      <td>NaN</td>\n",
       "      <td>2</td>\n",
       "      <td>2016</td>\n",
       "    </tr>\n",
       "    <tr>\n",
       "      <td>42155</td>\n",
       "      <td>07.08.2016</td>\n",
       "      <td>feedback</td>\n",
       "      <td>Рассказали друзьям</td>\n",
       "      <td>NaN</td>\n",
       "      <td>3</td>\n",
       "      <td>2016</td>\n",
       "    </tr>\n",
       "    <tr>\n",
       "      <td>42246</td>\n",
       "      <td>05.08.2016</td>\n",
       "      <td>feedback</td>\n",
       "      <td>Рассказали друзьям</td>\n",
       "      <td>NaN</td>\n",
       "      <td>1</td>\n",
       "      <td>2016</td>\n",
       "    </tr>\n",
       "    <tr>\n",
       "      <td>42294</td>\n",
       "      <td>04.08.2016</td>\n",
       "      <td>feedback</td>\n",
       "      <td>Рассказали друзьям</td>\n",
       "      <td>NaN</td>\n",
       "      <td>1</td>\n",
       "      <td>2016</td>\n",
       "    </tr>\n",
       "    <tr>\n",
       "      <td>42450</td>\n",
       "      <td>01.08.2016</td>\n",
       "      <td>feedback</td>\n",
       "      <td>Рассказали друзьям</td>\n",
       "      <td>NaN</td>\n",
       "      <td>3</td>\n",
       "      <td>2016</td>\n",
       "    </tr>\n",
       "  </tbody>\n",
       "</table>\n",
       "<p>291 rows × 6 columns</p>\n",
       "</div>"
      ],
      "text/plain": [
       "             Дата  Критерий           Парам. №1 Парам. №2  Значение  Дата2\n",
       "387    26.02.2020  feedback  Рассказали друзьям       NaN         1   2020\n",
       "750    11.02.2020  feedback  Рассказали друзьям       NaN         1   2020\n",
       "1270   21.01.2020  feedback  Рассказали друзьям       NaN         1   2020\n",
       "1410   16.01.2020  feedback  Рассказали друзьям       NaN         3   2020\n",
       "1559   10.01.2020  feedback  Рассказали друзьям       NaN         1   2020\n",
       "...           ...       ...                 ...       ...       ...    ...\n",
       "42101  08.08.2016  feedback  Рассказали друзьям       NaN         2   2016\n",
       "42155  07.08.2016  feedback  Рассказали друзьям       NaN         3   2016\n",
       "42246  05.08.2016  feedback  Рассказали друзьям       NaN         1   2016\n",
       "42294  04.08.2016  feedback  Рассказали друзьям       NaN         1   2016\n",
       "42450  01.08.2016  feedback  Рассказали друзьям       NaN         3   2016\n",
       "\n",
       "[291 rows x 6 columns]"
      ]
     },
     "execution_count": 214,
     "metadata": {},
     "output_type": "execute_result"
    }
   ],
   "source": [
    "repost=df[(df['Критерий']==\"feedback\")&(df['Парам. №1']=='Рассказали друзьям')]\n",
    "repost['Дата2'] = repost.apply(lambda x: day(x.Дата), axis=1)\n",
    "repost"
   ]
  },
  {
   "cell_type": "code",
   "execution_count": 215,
   "metadata": {},
   "outputs": [
    {
     "data": {
      "text/plain": [
       "[2, 2, 2, 2, 1]"
      ]
     },
     "execution_count": 215,
     "metadata": {},
     "output_type": "execute_result"
    }
   ],
   "source": [
    "q=round(repost[repost[\"Дата2\"] == 2016][\"Значение\"].mean())\n",
    "qq=round(repost[repost[\"Дата2\"] == 2017][\"Значение\"].mean())\n",
    "qqq=round(repost[repost[\"Дата2\"] == 2018][\"Значение\"].mean())\n",
    "qqqq=round(repost[repost[\"Дата2\"] == 2019][\"Значение\"].mean())\n",
    "qqqqq=round(repost[repost[\"Дата2\"] == 2020][\"Значение\"].mean())\n",
    "list6=[q,qq,qqq,qqqq,qqqqq]\n",
    "list6"
   ]
  },
  {
   "cell_type": "code",
   "execution_count": 216,
   "metadata": {},
   "outputs": [
    {
     "data": {
      "text/plain": [
       "[<matplotlib.lines.Line2D at 0x1ed5ae6c8c8>]"
      ]
     },
     "execution_count": 216,
     "metadata": {},
     "output_type": "execute_result"
    },
    {
     "data": {
      "image/png": "[encoded data removed]",
      "text/plain": [
       "<Figure size 432x288 with 1 Axes>"
      ]
     },
     "metadata": {
      "needs_background": "light"
     },
     "output_type": "display_data"
    }
   ],
   "source": [
    "plt.plot(list2,list6)#статистика репостов в группе в год"
   ]
  },
  {
   "cell_type": "code",
   "execution_count": 218,
   "metadata": {},
   "outputs": [
    {
     "name": "stderr",
     "output_type": "stream",
     "text": [
      "C:\\Users\\Mi\\Anaconda3\\lib\\site-packages\\ipykernel_launcher.py:2: SettingWithCopyWarning: \n",
      "A value is trying to be set on a copy of a slice from a DataFrame.\n",
      "Try using .loc[row_indexer,col_indexer] = value instead\n",
      "\n",
      "See the caveats in the documentation: http://pandas.pydata.org/pandas-docs/stable/user_guide/indexing.html#returning-a-view-versus-a-copy\n",
      "  \n"
     ]
    },
    {
     "data": {
      "text/html": [
       "<div>\n",
       "<style scoped>\n",
       "    .dataframe tbody tr th:only-of-type {\n",
       "        vertical-align: middle;\n",
       "    }\n",
       "\n",
       "    .dataframe tbody tr th {\n",
       "        vertical-align: top;\n",
       "    }\n",
       "\n",
       "    .dataframe thead th {\n",
       "        text-align: right;\n",
       "    }\n",
       "</style>\n",
       "<table border=\"1\" class=\"dataframe\">\n",
       "  <thead>\n",
       "    <tr style=\"text-align: right;\">\n",
       "      <th></th>\n",
       "      <th>Дата</th>\n",
       "      <th>Критерий</th>\n",
       "      <th>Парам. №1</th>\n",
       "      <th>Парам. №2</th>\n",
       "      <th>Значение</th>\n",
       "      <th>Дата2</th>\n",
       "    </tr>\n",
       "  </thead>\n",
       "  <tbody>\n",
       "    <tr>\n",
       "      <td>4499</td>\n",
       "      <td>01.10.2019</td>\n",
       "      <td>feedback</td>\n",
       "      <td>Упоминания</td>\n",
       "      <td>NaN</td>\n",
       "      <td>1</td>\n",
       "      <td>2019</td>\n",
       "    </tr>\n",
       "  </tbody>\n",
       "</table>\n",
       "</div>"
      ],
      "text/plain": [
       "            Дата  Критерий   Парам. №1 Парам. №2  Значение  Дата2\n",
       "4499  01.10.2019  feedback  Упоминания       NaN         1   2019"
      ]
     },
     "execution_count": 218,
     "metadata": {},
     "output_type": "execute_result"
    }
   ],
   "source": [
    "mention=df[(df['Критерий']==\"feedback\")&(df['Парам. №1']=='Упоминания')]\n",
    "mention['Дата2'] = mention.apply(lambda x: day(x.Дата), axis=1)\n",
    "mention"
   ]
  },
  {
   "cell_type": "code",
   "execution_count": 220,
   "metadata": {},
   "outputs": [
    {
     "data": {
      "text/plain": [
       "[0, 0, 0, 1, 0]"
      ]
     },
     "execution_count": 220,
     "metadata": {},
     "output_type": "execute_result"
    }
   ],
   "source": [
    "z=round(mention[mention[\"Дата2\"] == 2019][\"Значение\"].mean())\n",
    "list7=[0,0,0,z,0]\n",
    "list7"
   ]
  },
  {
   "cell_type": "code",
   "execution_count": 221,
   "metadata": {},
   "outputs": [
    {
     "data": {
      "text/plain": [
       "[<matplotlib.lines.Line2D at 0x1ed5aec9bc8>]"
      ]
     },
     "execution_count": 221,
     "metadata": {},
     "output_type": "execute_result"
    },
    {
     "data": {
      "image/png": "[encoded data removed]",
      "text/plain": [
       "<Figure size 432x288 with 1 Axes>"
      ]
     },
     "metadata": {
      "needs_background": "light"
     },
     "output_type": "display_data"
    }
   ],
   "source": [
    "plt.plot(list2,list7)#статистика упоминаний в группе в год"
   ]
  },
  {
   "cell_type": "markdown",
   "metadata": {},
   "source": [
    "Обосновать, подходит ли данная группа для продвижения нового товара среди активных пользователей из России моложе 30 лет?"
   ]
  },
  {
   "cell_type": "markdown",
   "metadata": {},
   "source": [
    "1) Люди в возрасте до 30 лет составляют больше половины аудитории;\n",
    "2) Отклик аудитории в 2020 начал снижаться, но он по прежнему имеется;\n",
    "3) Большая част пользователей из России.\n",
    "Эти три факта позволяют нам сделать вывод о том, что донная группа подходит для продвижения нового товара среди активных пользователей из России моложе 30 лет."
   ]
  },
  {
   "cell_type": "code",
   "execution_count": null,
   "metadata": {},
   "outputs": [],
   "source": []
  }
 ],
 "metadata": {
  "kernelspec": {
   "display_name": "Python 3",
   "language": "python",
   "name": "python3"
  },
  "language_info": {
   "codemirror_mode": {
    "name": "ipython",
    "version": 3
   },
   "file_extension": ".py",
   "mimetype": "text/x-python",
   "name": "python",
   "nbconvert_exporter": "python",
   "pygments_lexer": "ipython3",
   "version": "3.7.4"
  }
 },
 "nbformat": 4,
 "nbformat_minor": 4
}
